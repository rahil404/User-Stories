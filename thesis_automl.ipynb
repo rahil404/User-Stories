{
  "nbformat": 4,
  "nbformat_minor": 0,
  "metadata": {
    "colab": {
      "name": "thesis_automl.ipynb",
      "provenance": [],
      "authorship_tag": "ABX9TyMJKRdJra4kyru/ZQH9/2dt",
      "include_colab_link": true
    },
    "kernelspec": {
      "name": "python3",
      "display_name": "Python 3"
    }
  },
  "cells": [
    {
      "cell_type": "markdown",
      "metadata": {
        "id": "view-in-github",
        "colab_type": "text"
      },
      "source": [
        "<a href=\"https://colab.research.google.com/github/rahil404/User-Stories/blob/master/thesis_automl.ipynb\" target=\"_parent\"><img src=\"https://colab.research.google.com/assets/colab-badge.svg\" alt=\"Open In Colab\"/></a>"
      ]
    },
    {
      "cell_type": "code",
      "metadata": {
        "id": "gLSmTz5opq1F"
      },
      "source": [
        "!sudo apt-get install build-essential swig\r\n",
        "!curl https://raw.githubusercontent.com/automl/auto-sklearn/master/requirements.txt | xargs -n 1 -L 1 pip install\r\n",
        "!pip install auto-sklearn\r\n",
        "# restart runtime after executing it"
      ],
      "execution_count": null,
      "outputs": []
    },
    {
      "cell_type": "code",
      "metadata": {
        "id": "myFAOi4C00Wr"
      },
      "source": [
        "# import libraries\r\n",
        "from pandas import read_csv\r\n",
        "from pandas.plotting import scatter_matrix\r\n",
        "from matplotlib import pyplot\r\n",
        "from sklearn.model_selection import train_test_split\r\n",
        "import sklearn.metrics\r\n",
        "import keras\r\n",
        "from os import listdir\r\n",
        "import numpy as np\r\n",
        "import pandas as pd\r\n",
        "from PIL import Image\r\n",
        "import joblib\r\n",
        "import statistics\r\n",
        "import autosklearn.classification\r\n",
        "from scipy import stats"
      ],
      "execution_count": 3,
      "outputs": []
    },
    {
      "cell_type": "code",
      "metadata": {
        "id": "OJkdwsKh05zZ"
      },
      "source": [
        "#*** Example Problem ***\r\n",
        "import sklearn.datasets\r\n",
        "X, y = sklearn.datasets.load_breast_cancer(return_X_y=True)\r\n",
        "X_train, X_test, y_train, y_test = sklearn.model_selection.train_test_split(X, y, random_state=1)"
      ],
      "execution_count": 27,
      "outputs": []
    },
    {
      "cell_type": "code",
      "metadata": {
        "id": "Ll1Z1s5zdISj"
      },
      "source": [
        "#load and prepare dataset and labels\r\n",
        "ae = keras.models.load_model(\"trained models/encoders/spec1\")\r\n",
        "\r\n",
        "img_res = 96\r\n",
        "def load_image(dir):\r\n",
        "\tloaded_images = list()\r\n",
        "\timg_path = dir\r\n",
        "\tfor filename in listdir(img_path):\r\n",
        "\t\t# load image\r\n",
        "\t\timg = Image.open(img_path+'/' + filename)\r\n",
        "\t\tif img.size[0] != img_res:\r\n",
        "\t\t\timg = img.resize((img_res,img_res))\r\n",
        "\t\t# img.show()\r\n",
        "\t\tgs_image = img.convert(mode='L') #convert to grayscale\r\n",
        "\t\timg_data = np.asarray(gs_image)\r\n",
        "\t\timg_data = img_data/255.0 #normalize\r\n",
        "\r\n",
        "\t\t# store loaded image\r\n",
        "\t\tloaded_images.append(img_data)\r\n",
        "\r\n",
        "\tnumber_of_instances = len(listdir(img_path))\r\n",
        "\tarr = np.asarray(loaded_images)\r\n",
        "\tarr = arr.reshape((number_of_instances, img_res, img_res, 1))\r\n",
        "\treturn arr\r\n",
        "\r\n",
        "\r\n",
        "X_train = load_image(\"temp comp (spectogram)/all spectogram/train\")\r\n",
        "X_test = load_image(\"temp comp (spectogram)/all spectogram/test\")\r\n",
        "pred1 = ae.predict(X_train)\r\n",
        "pred2 = ae.predict(X_test)\r\n",
        "encoded_X = np.concatenate((pred1, pred2), axis=0)\r\n",
        "\r\n",
        "# import labels\r\n",
        "lbl_pkl = joblib.load('train_label.pickle')\r\n",
        "lbl_list = lbl_pkl.tolist()\r\n",
        "Y_train = np.array(lbl_list)\r\n",
        "lbl_pkl = joblib.load('test_label.pickle')\r\n",
        "lbl_list = lbl_pkl.tolist()\r\n",
        "Y_test = np.array(lbl_list)\r\n",
        "y = np.concatenate((Y_train, Y_test), axis=0)\r\n",
        "\r\n",
        "#convert 0 to 1, 1 to 0\r\n",
        "y2 = []\r\n",
        "for item in y:\r\n",
        "\tif item == 1.0:\r\n",
        "\t\tk = 0\r\n",
        "\telse:\r\n",
        "\t\tk = 1\r\n",
        "\ty2.append(k)\r\n",
        "y = np.array(y2)\r\n",
        "\r\n",
        "# train test split\r\n",
        "X_train, X_test, Y_train, Y_test = train_test_split(encoded_X, y, test_size=0.20, random_state=1, shuffle=True)"
      ],
      "execution_count": null,
      "outputs": []
    },
    {
      "cell_type": "code",
      "metadata": {
        "id": "-7cC-wC6137q"
      },
      "source": [
        "# Build and fit a classifier\r\n",
        "automl = autosklearn.classification.AutoSklearnClassifier(time_left_for_this_task=120, per_run_time_limit=30)\r\n",
        "automl.fit(X_train, y_train)\r\n",
        "# automl.fit(X_train, y_train, dataset_name='breast_cancer')"
      ],
      "execution_count": null,
      "outputs": []
    },
    {
      "cell_type": "code",
      "metadata": {
        "id": "C-RVkGjI2A7z"
      },
      "source": [
        "# Print the final ensemble constructed by auto-sklearn\r\n",
        "print(automl.show_models())"
      ],
      "execution_count": null,
      "outputs": []
    },
    {
      "cell_type": "code",
      "metadata": {
        "id": "sNoQWaLj2DqS"
      },
      "source": [
        "# Get the prediction scores\r\n",
        "predictions = automl.predict_proba(X_test)\r\n",
        "# print(predictions)\r\n",
        "predictions = np.ndarray.tolist(predictions)\r\n",
        "pred_arr = []\r\n",
        "for p in predictions:\r\n",
        "  pred_arr.append(p[1])\r\n"
      ],
      "execution_count": 39,
      "outputs": []
    },
    {
      "cell_type": "code",
      "metadata": {
        "colab": {
          "base_uri": "https://localhost:8080/"
        },
        "id": "ZtpiJzCqGKZY",
        "outputId": "e3abc656-d8d2-4989-8a24-28e7e52b15f3"
      },
      "source": [
        "#Get the BCE score and statistical values for predicted health indices\r\n",
        "print(\"BCE score\", sklearn.metrics.log_loss(y_test, pred_arr))\r\n",
        "stats.describe(pred_arr)"
      ],
      "execution_count": 50,
      "outputs": [
        {
          "output_type": "stream",
          "text": [
            "BCE score 0.20389633713793381\n"
          ],
          "name": "stdout"
        },
        {
          "output_type": "execute_result",
          "data": {
            "text/plain": [
              "DescribeResult(nobs=143, minmax=(0.10807033765053307, 0.9347086328462367), mean=0.6302230510616113, variance=0.12666068395709248, skewness=-0.5450872186423039, kurtosis=-1.584893114587342)"
            ]
          },
          "metadata": {
            "tags": []
          },
          "execution_count": 50
        }
      ]
    }
  ]
}